{
 "cells": [
  {
   "cell_type": "code",
   "execution_count": 1,
   "id": "c8f22d8d",
   "metadata": {},
   "outputs": [],
   "source": [
    "import sqlite3\n",
    "import pandas as pd\n",
    "# ^^^ pyforest auto-imports - don't write above this line\n",
    "import math"
   ]
  },
  {
   "cell_type": "markdown",
   "id": "a0ad7cf6",
   "metadata": {},
   "source": [
    "# Initier la connexion avec SQLITE3"
   ]
  },
  {
   "cell_type": "code",
   "execution_count": 2,
   "id": "471f8614",
   "metadata": {},
   "outputs": [],
   "source": [
    "connexion = sqlite3.connect('factbook.db')"
   ]
  },
  {
   "cell_type": "code",
   "execution_count": 3,
   "id": "eacdf9e9",
   "metadata": {},
   "outputs": [],
   "source": [
    "cursor = connexion.cursor()"
   ]
  },
  {
   "cell_type": "code",
   "execution_count": 4,
   "id": "d64ccd17",
   "metadata": {},
   "outputs": [
    {
     "data": {
      "text/plain": [
       "<sqlite3.Cursor at 0x7fa548260c00>"
      ]
     },
     "execution_count": 4,
     "metadata": {},
     "output_type": "execute_result"
    }
   ],
   "source": [
    "cursor.execute(\"SELECT name FROM sqlite_master WHERE type='table';\")"
   ]
  },
  {
   "cell_type": "code",
   "execution_count": 5,
   "id": "dd0524e2",
   "metadata": {},
   "outputs": [
    {
     "name": "stdout",
     "output_type": "stream",
     "text": [
      "[('facts',), ('sqlite_sequence',), ('landmarks',)]\n"
     ]
    }
   ],
   "source": [
    "print(cursor.fetchall())"
   ]
  },
  {
   "cell_type": "markdown",
   "id": "e81a9254",
   "metadata": {},
   "source": [
    "# Charger les donner dans un dataframe Pandas"
   ]
  },
  {
   "cell_type": "code",
   "execution_count": 6,
   "id": "05f1a5f5",
   "metadata": {},
   "outputs": [],
   "source": [
    "df = pd.read_sql_query('SELECT * FROM facts', connexion)"
   ]
  },
  {
   "cell_type": "code",
   "execution_count": 7,
   "id": "d6933f64",
   "metadata": {},
   "outputs": [],
   "source": [
    "def pop_growth(df):\n",
    "    return df.population * math.e ** ((df.population_growth/100)*35)"
   ]
  },
  {
   "cell_type": "code",
   "execution_count": 8,
   "id": "2be7e307",
   "metadata": {},
   "outputs": [],
   "source": [
    "df['pop2050']= pop_growth(df)"
   ]
  },
  {
   "cell_type": "code",
   "execution_count": 9,
   "id": "a222c982",
   "metadata": {},
   "outputs": [],
   "source": [
    "df = df.dropna(axis=0)"
   ]
  },
  {
   "cell_type": "code",
   "execution_count": 10,
   "id": "d3591e2a",
   "metadata": {},
   "outputs": [
    {
     "data": {
      "text/html": [
       "<div>\n",
       "<style scoped>\n",
       "    .dataframe tbody tr th:only-of-type {\n",
       "        vertical-align: middle;\n",
       "    }\n",
       "\n",
       "    .dataframe tbody tr th {\n",
       "        vertical-align: top;\n",
       "    }\n",
       "\n",
       "    .dataframe thead th {\n",
       "        text-align: right;\n",
       "    }\n",
       "</style>\n",
       "<table border=\"1\" class=\"dataframe\">\n",
       "  <thead>\n",
       "    <tr style=\"text-align: right;\">\n",
       "      <th></th>\n",
       "      <th>id</th>\n",
       "      <th>code</th>\n",
       "      <th>name</th>\n",
       "      <th>area</th>\n",
       "      <th>area_land</th>\n",
       "      <th>area_water</th>\n",
       "      <th>population</th>\n",
       "      <th>population_growth</th>\n",
       "      <th>birth_rate</th>\n",
       "      <th>death_rate</th>\n",
       "      <th>migration_rate</th>\n",
       "      <th>created_at</th>\n",
       "      <th>updated_at</th>\n",
       "      <th>pop2050</th>\n",
       "    </tr>\n",
       "  </thead>\n",
       "  <tbody>\n",
       "    <tr>\n",
       "      <th>76</th>\n",
       "      <td>77</td>\n",
       "      <td>in</td>\n",
       "      <td>India</td>\n",
       "      <td>3287263.0</td>\n",
       "      <td>2973193.0</td>\n",
       "      <td>314070.0</td>\n",
       "      <td>1.251696e+09</td>\n",
       "      <td>1.22</td>\n",
       "      <td>19.55</td>\n",
       "      <td>7.32</td>\n",
       "      <td>0.04</td>\n",
       "      <td>2015-11-01 13:26:24.788193</td>\n",
       "      <td>2015-11-01 13:26:24.788193</td>\n",
       "      <td>1.918415e+09</td>\n",
       "    </tr>\n",
       "    <tr>\n",
       "      <th>36</th>\n",
       "      <td>37</td>\n",
       "      <td>ch</td>\n",
       "      <td>China</td>\n",
       "      <td>9596960.0</td>\n",
       "      <td>9326410.0</td>\n",
       "      <td>270550.0</td>\n",
       "      <td>1.367485e+09</td>\n",
       "      <td>0.45</td>\n",
       "      <td>12.49</td>\n",
       "      <td>7.53</td>\n",
       "      <td>0.44</td>\n",
       "      <td>2015-11-01 13:22:53.813142</td>\n",
       "      <td>2015-11-01 13:22:53.813142</td>\n",
       "      <td>1.600752e+09</td>\n",
       "    </tr>\n",
       "    <tr>\n",
       "      <th>128</th>\n",
       "      <td>129</td>\n",
       "      <td>ni</td>\n",
       "      <td>Nigeria</td>\n",
       "      <td>923768.0</td>\n",
       "      <td>910768.0</td>\n",
       "      <td>13000.0</td>\n",
       "      <td>1.815621e+08</td>\n",
       "      <td>2.45</td>\n",
       "      <td>37.64</td>\n",
       "      <td>12.90</td>\n",
       "      <td>0.22</td>\n",
       "      <td>2015-11-01 13:30:39.695455</td>\n",
       "      <td>2015-11-01 13:30:39.695455</td>\n",
       "      <td>4.279890e+08</td>\n",
       "    </tr>\n",
       "    <tr>\n",
       "      <th>185</th>\n",
       "      <td>186</td>\n",
       "      <td>us</td>\n",
       "      <td>United States</td>\n",
       "      <td>9826675.0</td>\n",
       "      <td>9161966.0</td>\n",
       "      <td>664709.0</td>\n",
       "      <td>3.213689e+08</td>\n",
       "      <td>0.78</td>\n",
       "      <td>12.49</td>\n",
       "      <td>8.15</td>\n",
       "      <td>3.86</td>\n",
       "      <td>2015-11-01 13:35:14.898271</td>\n",
       "      <td>2015-11-01 13:35:14.898271</td>\n",
       "      <td>4.222466e+08</td>\n",
       "    </tr>\n",
       "    <tr>\n",
       "      <th>77</th>\n",
       "      <td>78</td>\n",
       "      <td>id</td>\n",
       "      <td>Indonesia</td>\n",
       "      <td>1904569.0</td>\n",
       "      <td>1811569.0</td>\n",
       "      <td>93000.0</td>\n",
       "      <td>2.559937e+08</td>\n",
       "      <td>0.92</td>\n",
       "      <td>16.72</td>\n",
       "      <td>6.37</td>\n",
       "      <td>1.16</td>\n",
       "      <td>2015-11-01 13:26:30.435758</td>\n",
       "      <td>2015-11-01 13:26:30.435758</td>\n",
       "      <td>3.532418e+08</td>\n",
       "    </tr>\n",
       "    <tr>\n",
       "      <th>131</th>\n",
       "      <td>132</td>\n",
       "      <td>pk</td>\n",
       "      <td>Pakistan</td>\n",
       "      <td>796095.0</td>\n",
       "      <td>770875.0</td>\n",
       "      <td>25220.0</td>\n",
       "      <td>1.990858e+08</td>\n",
       "      <td>1.46</td>\n",
       "      <td>22.58</td>\n",
       "      <td>6.49</td>\n",
       "      <td>1.54</td>\n",
       "      <td>2015-11-01 13:30:54.514863</td>\n",
       "      <td>2015-11-01 13:30:54.514863</td>\n",
       "      <td>3.318676e+08</td>\n",
       "    </tr>\n",
       "    <tr>\n",
       "      <th>13</th>\n",
       "      <td>14</td>\n",
       "      <td>bg</td>\n",
       "      <td>Bangladesh</td>\n",
       "      <td>148460.0</td>\n",
       "      <td>130170.0</td>\n",
       "      <td>18290.0</td>\n",
       "      <td>1.689577e+08</td>\n",
       "      <td>1.60</td>\n",
       "      <td>21.14</td>\n",
       "      <td>5.61</td>\n",
       "      <td>0.46</td>\n",
       "      <td>2015-11-01 13:20:52.753843</td>\n",
       "      <td>2015-11-01 13:20:52.753843</td>\n",
       "      <td>2.957897e+08</td>\n",
       "    </tr>\n",
       "    <tr>\n",
       "      <th>23</th>\n",
       "      <td>24</td>\n",
       "      <td>br</td>\n",
       "      <td>Brazil</td>\n",
       "      <td>8515770.0</td>\n",
       "      <td>8358140.0</td>\n",
       "      <td>157630.0</td>\n",
       "      <td>2.042598e+08</td>\n",
       "      <td>0.77</td>\n",
       "      <td>14.46</td>\n",
       "      <td>6.58</td>\n",
       "      <td>0.14</td>\n",
       "      <td>2015-11-01 13:21:42.799461</td>\n",
       "      <td>2015-11-01 13:21:42.799461</td>\n",
       "      <td>2.674393e+08</td>\n",
       "    </tr>\n",
       "    <tr>\n",
       "      <th>39</th>\n",
       "      <td>40</td>\n",
       "      <td>cg</td>\n",
       "      <td>Congo, Democratic Republic of the</td>\n",
       "      <td>2344858.0</td>\n",
       "      <td>2267048.0</td>\n",
       "      <td>77810.0</td>\n",
       "      <td>7.937514e+07</td>\n",
       "      <td>2.45</td>\n",
       "      <td>34.88</td>\n",
       "      <td>10.07</td>\n",
       "      <td>0.27</td>\n",
       "      <td>2015-11-01 13:23:09.778305</td>\n",
       "      <td>2015-11-01 13:23:09.778305</td>\n",
       "      <td>1.871078e+08</td>\n",
       "    </tr>\n",
       "    <tr>\n",
       "      <th>113</th>\n",
       "      <td>114</td>\n",
       "      <td>mx</td>\n",
       "      <td>Mexico</td>\n",
       "      <td>1964375.0</td>\n",
       "      <td>1943945.0</td>\n",
       "      <td>20430.0</td>\n",
       "      <td>1.217368e+08</td>\n",
       "      <td>1.18</td>\n",
       "      <td>18.78</td>\n",
       "      <td>5.26</td>\n",
       "      <td>1.68</td>\n",
       "      <td>2015-11-01 13:29:28.845230</td>\n",
       "      <td>2015-11-01 13:29:28.845230</td>\n",
       "      <td>1.839863e+08</td>\n",
       "    </tr>\n",
       "  </tbody>\n",
       "</table>\n",
       "</div>"
      ],
      "text/plain": [
       "      id code                               name       area  area_land  \\\n",
       "76    77   in                              India  3287263.0  2973193.0   \n",
       "36    37   ch                              China  9596960.0  9326410.0   \n",
       "128  129   ni                            Nigeria   923768.0   910768.0   \n",
       "185  186   us                      United States  9826675.0  9161966.0   \n",
       "77    78   id                          Indonesia  1904569.0  1811569.0   \n",
       "131  132   pk                           Pakistan   796095.0   770875.0   \n",
       "13    14   bg                         Bangladesh   148460.0   130170.0   \n",
       "23    24   br                             Brazil  8515770.0  8358140.0   \n",
       "39    40   cg  Congo, Democratic Republic of the  2344858.0  2267048.0   \n",
       "113  114   mx                             Mexico  1964375.0  1943945.0   \n",
       "\n",
       "     area_water    population  population_growth  birth_rate  death_rate  \\\n",
       "76     314070.0  1.251696e+09               1.22       19.55        7.32   \n",
       "36     270550.0  1.367485e+09               0.45       12.49        7.53   \n",
       "128     13000.0  1.815621e+08               2.45       37.64       12.90   \n",
       "185    664709.0  3.213689e+08               0.78       12.49        8.15   \n",
       "77      93000.0  2.559937e+08               0.92       16.72        6.37   \n",
       "131     25220.0  1.990858e+08               1.46       22.58        6.49   \n",
       "13      18290.0  1.689577e+08               1.60       21.14        5.61   \n",
       "23     157630.0  2.042598e+08               0.77       14.46        6.58   \n",
       "39      77810.0  7.937514e+07               2.45       34.88       10.07   \n",
       "113     20430.0  1.217368e+08               1.18       18.78        5.26   \n",
       "\n",
       "     migration_rate                  created_at                  updated_at  \\\n",
       "76             0.04  2015-11-01 13:26:24.788193  2015-11-01 13:26:24.788193   \n",
       "36             0.44  2015-11-01 13:22:53.813142  2015-11-01 13:22:53.813142   \n",
       "128            0.22  2015-11-01 13:30:39.695455  2015-11-01 13:30:39.695455   \n",
       "185            3.86  2015-11-01 13:35:14.898271  2015-11-01 13:35:14.898271   \n",
       "77             1.16  2015-11-01 13:26:30.435758  2015-11-01 13:26:30.435758   \n",
       "131            1.54  2015-11-01 13:30:54.514863  2015-11-01 13:30:54.514863   \n",
       "13             0.46  2015-11-01 13:20:52.753843  2015-11-01 13:20:52.753843   \n",
       "23             0.14  2015-11-01 13:21:42.799461  2015-11-01 13:21:42.799461   \n",
       "39             0.27  2015-11-01 13:23:09.778305  2015-11-01 13:23:09.778305   \n",
       "113            1.68  2015-11-01 13:29:28.845230  2015-11-01 13:29:28.845230   \n",
       "\n",
       "          pop2050  \n",
       "76   1.918415e+09  \n",
       "36   1.600752e+09  \n",
       "128  4.279890e+08  \n",
       "185  4.222466e+08  \n",
       "77   3.532418e+08  \n",
       "131  3.318676e+08  \n",
       "13   2.957897e+08  \n",
       "23   2.674393e+08  \n",
       "39   1.871078e+08  \n",
       "113  1.839863e+08  "
      ]
     },
     "execution_count": 10,
     "metadata": {},
     "output_type": "execute_result"
    }
   ],
   "source": [
    "df.sort_values(by=['pop2050'], ascending=False).head(10)"
   ]
  },
  {
   "cell_type": "markdown",
   "id": "3d6eae75",
   "metadata": {},
   "source": [
    "# Calcul du ratio aire terrestre /maritime avec SUM"
   ]
  },
  {
   "cell_type": "code",
   "execution_count": 11,
   "id": "e317ba40",
   "metadata": {},
   "outputs": [],
   "source": [
    "data = pd.read_sql_query('SELECT SUM(area_land), SUM(area_water) FROM facts WHERE area_land !=\"\"', connexion)"
   ]
  },
  {
   "cell_type": "code",
   "execution_count": 12,
   "id": "a348e514",
   "metadata": {},
   "outputs": [
    {
     "data": {
      "text/html": [
       "<div>\n",
       "<style scoped>\n",
       "    .dataframe tbody tr th:only-of-type {\n",
       "        vertical-align: middle;\n",
       "    }\n",
       "\n",
       "    .dataframe tbody tr th {\n",
       "        vertical-align: top;\n",
       "    }\n",
       "\n",
       "    .dataframe thead th {\n",
       "        text-align: right;\n",
       "    }\n",
       "</style>\n",
       "<table border=\"1\" class=\"dataframe\">\n",
       "  <thead>\n",
       "    <tr style=\"text-align: right;\">\n",
       "      <th></th>\n",
       "      <th>SUM(area_land)</th>\n",
       "      <th>SUM(area_water)</th>\n",
       "    </tr>\n",
       "  </thead>\n",
       "  <tbody>\n",
       "    <tr>\n",
       "      <th>0</th>\n",
       "      <td>128584834</td>\n",
       "      <td>4529125</td>\n",
       "    </tr>\n",
       "  </tbody>\n",
       "</table>\n",
       "</div>"
      ],
      "text/plain": [
       "   SUM(area_land)  SUM(area_water)\n",
       "0       128584834          4529125"
      ]
     },
     "execution_count": 12,
     "metadata": {},
     "output_type": "execute_result"
    }
   ],
   "source": [
    "data"
   ]
  },
  {
   "cell_type": "code",
   "execution_count": 13,
   "id": "fabbf053",
   "metadata": {},
   "outputs": [
    {
     "data": {
      "text/plain": [
       "0    28.390657\n",
       "dtype: float64"
      ]
     },
     "execution_count": 13,
     "metadata": {},
     "output_type": "execute_result"
    }
   ],
   "source": [
    "data['SUM(area_land)']/data['SUM(area_water)']"
   ]
  },
  {
   "cell_type": "markdown",
   "id": "83a4f3c6",
   "metadata": {},
   "source": [
    "# MIN(),  MAX(), AVG(), DISTINCT()"
   ]
  },
  {
   "cell_type": "code",
   "execution_count": 14,
   "id": "74b50cbf",
   "metadata": {},
   "outputs": [
    {
     "data": {
      "text/plain": [
       "0.0"
      ]
     },
     "execution_count": 14,
     "metadata": {},
     "output_type": "execute_result"
    }
   ],
   "source": [
    "cursor.execute(\"SELECT MIN(population_growth) FROM facts;\").fetchall()[0][0]"
   ]
  },
  {
   "cell_type": "code",
   "execution_count": 15,
   "id": "85ba0b74",
   "metadata": {},
   "outputs": [
    {
     "data": {
      "text/plain": [
       "14.89"
      ]
     },
     "execution_count": 15,
     "metadata": {},
     "output_type": "execute_result"
    }
   ],
   "source": [
    "cursor.execute(\"SELECT MAX(death_rate) FROM facts;\").fetchall()[0][0]"
   ]
  },
  {
   "cell_type": "code",
   "execution_count": 16,
   "id": "63d3209c",
   "metadata": {},
   "outputs": [
    {
     "data": {
      "text/plain": [
       "128584834"
      ]
     },
     "execution_count": 16,
     "metadata": {},
     "output_type": "execute_result"
    }
   ],
   "source": [
    "cursor.execute(\"SELECT SUM(area_land) FROM facts\").fetchall()[0][0]"
   ]
  },
  {
   "cell_type": "code",
   "execution_count": 17,
   "id": "f320a979",
   "metadata": {},
   "outputs": [
    {
     "data": {
      "text/plain": [
       "19067.59259259259"
      ]
     },
     "execution_count": 17,
     "metadata": {},
     "output_type": "execute_result"
    }
   ],
   "source": [
    "cursor.execute(\"SELECT AVG(area_water) FROM facts\").fetchall()[0][0]"
   ]
  },
  {
   "cell_type": "code",
   "execution_count": 18,
   "id": "56586597",
   "metadata": {},
   "outputs": [
    {
     "data": {
      "text/plain": [
       "[(62094928.32231405, 15026972654, 45.45)]"
      ]
     },
     "execution_count": 18,
     "metadata": {},
     "output_type": "execute_result"
    }
   ],
   "source": [
    "cursor.execute(\"SELECT AVG(population), SUM(population), MAX(birth_rate) FROM facts\").fetchall()"
   ]
  },
  {
   "cell_type": "code",
   "execution_count": 19,
   "id": "21a8fb90",
   "metadata": {},
   "outputs": [],
   "source": [
    "avg, summ, maxx = cursor.execute(\"SELECT AVG(population), SUM(population), MAX(birth_rate) FROM facts\").fetchall()[0]"
   ]
  },
  {
   "cell_type": "code",
   "execution_count": 20,
   "id": "75aa0c03",
   "metadata": {},
   "outputs": [
    {
     "name": "stdout",
     "output_type": "stream",
     "text": [
      "62,094,928.32\n"
     ]
    }
   ],
   "source": [
    "print(f\"{avg:,.2f}\")"
   ]
  },
  {
   "cell_type": "code",
   "execution_count": 21,
   "id": "3d4ec7b8",
   "metadata": {},
   "outputs": [
    {
     "data": {
      "text/plain": [
       "[(38.57,),\n",
       " (12.92,),\n",
       " (23.67,),\n",
       " (8.13,),\n",
       " (38.78,),\n",
       " (15.85,),\n",
       " (16.64,),\n",
       " (13.61,),\n",
       " (12.15,),\n",
       " (9.41,),\n",
       " (15.5,),\n",
       " (13.66,),\n",
       " (21.14,),\n",
       " (11.87,),\n",
       " (10.7,),\n",
       " (11.41,),\n",
       " (24.68,),\n",
       " (36.02,),\n",
       " (17.78,),\n",
       " (22.76,),\n",
       " (8.87,),\n",
       " (20.96,),\n",
       " (14.46,),\n",
       " (17.32,),\n",
       " (8.92,),\n",
       " (42.03,),\n",
       " (18.39,),\n",
       " (42.01,),\n",
       " (23.83,),\n",
       " (36.17,),\n",
       " (10.28,),\n",
       " (20.33,),\n",
       " (35.08,),\n",
       " (36.6,),\n",
       " (13.83,),\n",
       " (12.49,),\n",
       " (16.47,),\n",
       " (27.84,),\n",
       " (34.88,),\n",
       " (35.85,),\n",
       " (15.91,),\n",
       " (28.67,),\n",
       " (9.45,),\n",
       " (9.9,),\n",
       " (9.63,),\n",
       " (10.27,),\n",
       " (23.65,),\n",
       " (15.41,),\n",
       " (18.73,),\n",
       " (18.51,),\n",
       " (22.9,),\n",
       " (16.46,),\n",
       " (33.31,),\n",
       " (30.0,),\n",
       " (10.51,),\n",
       " (37.27,),\n",
       " (19.43,),\n",
       " (10.72,),\n",
       " (12.38,),\n",
       " (34.49,),\n",
       " (30.86,),\n",
       " (12.74,),\n",
       " (8.47,),\n",
       " (31.09,),\n",
       " (8.66,),\n",
       " (16.03,),\n",
       " (24.89,),\n",
       " (35.74,),\n",
       " (33.38,),\n",
       " (15.59,),\n",
       " (22.31,),\n",
       " (23.14,),\n",
       " (9.16,),\n",
       " (13.91,),\n",
       " (19.55,),\n",
       " (16.72,),\n",
       " (17.99,),\n",
       " (31.45,),\n",
       " (14.84,),\n",
       " (18.48,),\n",
       " (8.74,),\n",
       " (18.16,),\n",
       " (7.93,),\n",
       " (25.37,),\n",
       " (19.15,),\n",
       " (26.4,),\n",
       " (21.46,),\n",
       " (14.52,),\n",
       " (8.19,),\n",
       " (None,),\n",
       " (19.91,),\n",
       " (22.98,),\n",
       " (24.25,),\n",
       " (10.0,),\n",
       " (14.59,),\n",
       " (25.47,),\n",
       " (34.41,),\n",
       " (18.03,),\n",
       " (10.45,),\n",
       " (10.1,),\n",
       " (11.37,),\n",
       " (11.55,),\n",
       " (32.61,),\n",
       " (41.56,),\n",
       " (19.71,),\n",
       " (15.75,),\n",
       " (44.99,),\n",
       " (10.18,),\n",
       " (25.6,),\n",
       " (31.34,),\n",
       " (13.29,),\n",
       " (18.78,),\n",
       " (20.54,),\n",
       " (12.0,),\n",
       " (6.65,),\n",
       " (20.25,),\n",
       " (10.42,),\n",
       " (18.2,),\n",
       " (38.58,),\n",
       " (19.8,),\n",
       " (24.95,),\n",
       " (20.64,),\n",
       " (10.83,),\n",
       " (13.33,),\n",
       " (45.45,),\n",
       " (37.64,),\n",
       " (12.14,),\n",
       " (24.44,),\n",
       " (22.58,),\n",
       " (11.05,),\n",
       " (18.32,),\n",
       " (24.38,),\n",
       " (16.37,),\n",
       " (18.28,),\n",
       " (24.27,),\n",
       " (9.74,),\n",
       " (9.27,),\n",
       " (9.84,),\n",
       " (9.14,),\n",
       " (11.6,),\n",
       " (33.75,),\n",
       " (13.5,),\n",
       " (13.7,),\n",
       " (13.57,),\n",
       " (20.87,),\n",
       " (8.63,),\n",
       " (34.23,),\n",
       " (34.52,),\n",
       " (9.08,),\n",
       " (14.19,),\n",
       " (37.03,),\n",
       " (8.27,),\n",
       " (9.91,),\n",
       " (8.42,),\n",
       " (25.77,),\n",
       " (40.45,),\n",
       " (20.75,),\n",
       " (36.91,),\n",
       " (9.64,),\n",
       " (29.19,),\n",
       " (16.34,),\n",
       " (24.67,),\n",
       " (11.99,),\n",
       " (10.5,),\n",
       " (22.17,),\n",
       " (36.39,),\n",
       " (11.19,),\n",
       " (34.16,),\n",
       " (34.13,),\n",
       " (23.0,),\n",
       " (13.46,),\n",
       " (16.33,),\n",
       " (19.4,),\n",
       " (23.74,),\n",
       " (43.79,),\n",
       " (15.43,),\n",
       " (12.17,),\n",
       " (13.07,),\n",
       " (17.0,),\n",
       " (25.04,),\n",
       " (19.16,),\n",
       " (15.96,),\n",
       " (29.98,),\n",
       " (42.13,),\n",
       " (32.26,),\n",
       " (10.2,),\n",
       " (9.23,),\n",
       " (8.88,),\n",
       " (13.77,),\n",
       " (14.48,),\n",
       " (15.22,),\n",
       " (15.33,),\n",
       " (7.42,),\n",
       " (13.45,),\n",
       " (12.56,),\n",
       " (13.8,),\n",
       " (13.0,),\n",
       " (14.33,),\n",
       " (12.67,),\n",
       " (11.33,),\n",
       " (10.91,),\n",
       " (12.11,),\n",
       " (10.9,),\n",
       " (14.08,),\n",
       " (11.91,),\n",
       " (11.1,),\n",
       " (11.26,),\n",
       " (9.88,),\n",
       " (16.13,),\n",
       " (22.89,),\n",
       " (16.82,),\n",
       " (10.86,),\n",
       " (10.31,),\n",
       " (31.11,),\n",
       " (22.99,),\n",
       " (30.24,),\n",
       " (18.6,)]"
      ]
     },
     "execution_count": 21,
     "metadata": {},
     "output_type": "execute_result"
    }
   ],
   "source": [
    "cursor.execute(\"SELECT DISTINCT(birth_rate) FROM facts\").fetchall()"
   ]
  },
  {
   "cell_type": "code",
   "execution_count": 22,
   "id": "97ee9fb9",
   "metadata": {
    "scrolled": true
   },
   "outputs": [
    {
     "data": {
      "text/plain": [
       "'4,233,873,015'"
      ]
     },
     "execution_count": 22,
     "metadata": {},
     "output_type": "execute_result"
    }
   ],
   "source": [
    "f'{cursor.execute(\"SELECT SUM(DISTINCT(population)) FROM facts WHERE area_land >1000000\").fetchall()[0][0]:,.0f}'"
   ]
  },
  {
   "cell_type": "markdown",
   "id": "83775714",
   "metadata": {},
   "source": [
    "# Groupement  GROUP BY - filtre avec HAVING sur une nouvelle colonne"
   ]
  },
  {
   "cell_type": "code",
   "execution_count": 23,
   "id": "d41f2a16",
   "metadata": {},
   "outputs": [],
   "source": [
    "connexion2 = sqlite3.connect('jobs.db')"
   ]
  },
  {
   "cell_type": "code",
   "execution_count": 24,
   "id": "ca3240a6",
   "metadata": {},
   "outputs": [],
   "source": [
    "cursor2 = connexion2.cursor()"
   ]
  },
  {
   "cell_type": "code",
   "execution_count": 25,
   "id": "eb568e46",
   "metadata": {},
   "outputs": [
    {
     "data": {
      "text/plain": [
       "[('Arts', 0.17),\n",
       " ('Communications & Journalism', 0.13),\n",
       " ('Humanities & Liberal Arts', 0.13),\n",
       " ('Industrial Arts & Consumer Services', 0.12),\n",
       " ('Law & Public Policy', 0.12),\n",
       " ('Psychology & Social Work', 0.12)]"
      ]
     },
     "execution_count": 25,
     "metadata": {},
     "output_type": "execute_result"
    }
   ],
   "source": [
    "cursor2.execute(\n",
    "'SELECT Major_category, ROUND(AVG(low_wage_jobs)/AVG(Total),2) AS share_low_wages \\\n",
    "FROM recent_grads GROUP BY Major_category \\\n",
    "HAVING share_low_wages > 0.1;').fetchall()"
   ]
  },
  {
   "cell_type": "markdown",
   "id": "d1fd17fc",
   "metadata": {},
   "source": [
    "# INNER JOIN"
   ]
  },
  {
   "cell_type": "code",
   "execution_count": 26,
   "id": "45bf652e",
   "metadata": {
    "scrolled": true
   },
   "outputs": [
    {
     "data": {
      "text/plain": [
       "[(1,\n",
       "  'Statue of Liberty',\n",
       "  186,\n",
       "  186,\n",
       "  'us',\n",
       "  'United States',\n",
       "  9826675,\n",
       "  9161966,\n",
       "  664709,\n",
       "  321368864,\n",
       "  0.78,\n",
       "  12.49,\n",
       "  8.15,\n",
       "  3.86,\n",
       "  '2015-11-01 13:35:14.898271',\n",
       "  '2015-11-01 13:35:14.898271'),\n",
       " (2,\n",
       "  'Golden Gate Bridge',\n",
       "  186,\n",
       "  186,\n",
       "  'us',\n",
       "  'United States',\n",
       "  9826675,\n",
       "  9161966,\n",
       "  664709,\n",
       "  321368864,\n",
       "  0.78,\n",
       "  12.49,\n",
       "  8.15,\n",
       "  3.86,\n",
       "  '2015-11-01 13:35:14.898271',\n",
       "  '2015-11-01 13:35:14.898271'),\n",
       " (3,\n",
       "  'Washington Monument',\n",
       "  186,\n",
       "  186,\n",
       "  'us',\n",
       "  'United States',\n",
       "  9826675,\n",
       "  9161966,\n",
       "  664709,\n",
       "  321368864,\n",
       "  0.78,\n",
       "  12.49,\n",
       "  8.15,\n",
       "  3.86,\n",
       "  '2015-11-01 13:35:14.898271',\n",
       "  '2015-11-01 13:35:14.898271')]"
      ]
     },
     "execution_count": 26,
     "metadata": {},
     "output_type": "execute_result"
    }
   ],
   "source": [
    "cursor.execute('SELECT * FROM landmarks INNER JOIN facts ON landmarks.country == facts.id').fetchall()"
   ]
  },
  {
   "cell_type": "code",
   "execution_count": 27,
   "id": "4ef99946",
   "metadata": {},
   "outputs": [],
   "source": [
    "connexion.close()"
   ]
  },
  {
   "cell_type": "code",
   "execution_count": 28,
   "id": "e3c4a51b",
   "metadata": {},
   "outputs": [],
   "source": [
    "connexion2.close()"
   ]
  },
  {
   "cell_type": "markdown",
   "id": "ec08e000",
   "metadata": {},
   "source": [
    "# Requête sur base de données normalisées"
   ]
  },
  {
   "cell_type": "code",
   "execution_count": 29,
   "id": "c0044138",
   "metadata": {},
   "outputs": [
    {
     "name": "stdout",
     "output_type": "stream",
     "text": [
      "academy_awards.csv  factbook3.db  jobs.db\t  SQL.ipynb\r\n",
      "academy_awards.db   factbook.db   nominations.db\r\n"
     ]
    }
   ],
   "source": [
    "!ls"
   ]
  },
  {
   "cell_type": "code",
   "execution_count": 30,
   "id": "7d514d20",
   "metadata": {},
   "outputs": [],
   "source": [
    "connexion = sqlite3.connect('academy_awards.db')\n",
    "cursor = connexion.cursor()"
   ]
  },
  {
   "cell_type": "code",
   "execution_count": 31,
   "id": "614b9eaa",
   "metadata": {},
   "outputs": [
    {
     "data": {
      "text/plain": [
       "[(0, 'id', 'integer', 0, None, 1),\n",
       " (1, 'ceremony_id', 'integer', 0, None, 0),\n",
       " (2, 'category', 'text', 0, None, 0),\n",
       " (3, 'nominee', 'text', 0, None, 0),\n",
       " (4, 'movie', 'text', 0, None, 0),\n",
       " (5, 'character', 'text', 0, None, 0),\n",
       " (6, 'won', 'boolean', 0, None, 0)]"
      ]
     },
     "execution_count": 31,
     "metadata": {},
     "output_type": "execute_result"
    }
   ],
   "source": [
    "cursor.execute('PRAGMA table_info(nominations)').fetchall()"
   ]
  },
  {
   "cell_type": "code",
   "execution_count": 32,
   "id": "915612d5",
   "metadata": {},
   "outputs": [
    {
     "data": {
      "text/plain": [
       "[(\"The King's Speech\",), ('The Fighter',), ('Black Swan',), ('The Fighter',)]"
      ]
     },
     "execution_count": 32,
     "metadata": {},
     "output_type": "execute_result"
    }
   ],
   "source": [
    "cursor.execute(\n",
    "'SELECT nominations.movie \\\n",
    "FROM nominations \\\n",
    "INNER JOIN ceremonies ON nominations.ceremony_id == ceremonies.id \\\n",
    "WHERE ceremonies.year = 2010 AND nominations.won = 1').fetchall()"
   ]
  },
  {
   "cell_type": "code",
   "execution_count": 33,
   "id": "408130e1",
   "metadata": {},
   "outputs": [
    {
     "data": {
      "text/plain": [
       "[('Black Swan', 2010), ('Closer', 2004)]"
      ]
     },
     "execution_count": 33,
     "metadata": {},
     "output_type": "execute_result"
    }
   ],
   "source": [
    "cursor.execute(\n",
    "'SELECT nominations.movie, ceremonies.year \\\n",
    "FROM nominations \\\n",
    "INNER JOIN ceremonies ON nominations.ceremony_id == ceremonies.id \\\n",
    "WHERE nominations.nominee = \"Natalie Portman\"').fetchall()"
   ]
  },
  {
   "cell_type": "markdown",
   "id": "e1f6b6e4",
   "metadata": {},
   "source": [
    "# Table intermédiaire"
   ]
  },
  {
   "cell_type": "markdown",
   "id": "c91aa923",
   "metadata": {},
   "source": [
    "L'idée est de réunir les ids des 2 tables qui ont une relation N to N"
   ]
  },
  {
   "cell_type": "code",
   "execution_count": 34,
   "id": "8bdecc4d",
   "metadata": {},
   "outputs": [
    {
     "data": {
      "text/plain": [
       "<sqlite3.Cursor at 0x7fa51615bf80>"
      ]
     },
     "execution_count": 34,
     "metadata": {},
     "output_type": "execute_result"
    }
   ],
   "source": [
    "cursor.execute(\n",
    "'CREATE TABLE nn_movie_actors( \\\n",
    "id integer PRIMARY KEY, \\\n",
    "movie_id integer REFERENCES movies(id), \\\n",
    "actor_id integer REFERENCES actors(id))')"
   ]
  },
  {
   "cell_type": "code",
   "execution_count": 35,
   "id": "bc341c14",
   "metadata": {},
   "outputs": [
    {
     "data": {
      "text/plain": [
       "<sqlite3.Cursor at 0x7fa51615bf80>"
      ]
     },
     "execution_count": 35,
     "metadata": {},
     "output_type": "execute_result"
    }
   ],
   "source": [
    "cursor.execute('DROP TABLE nn_movie_actors')"
   ]
  },
  {
   "cell_type": "markdown",
   "id": "cbec6237",
   "metadata": {},
   "source": [
    "# Requête many to many"
   ]
  },
  {
   "cell_type": "markdown",
   "id": "30a88a3f",
   "metadata": {},
   "source": [
    "Exemple de requête many to many"
   ]
  },
  {
   "cell_type": "code",
   "execution_count": 36,
   "id": "059492a8",
   "metadata": {},
   "outputs": [
    {
     "data": {
      "text/plain": [
       "<sqlite3.Cursor at 0x7fa51615bf80>"
      ]
     },
     "execution_count": 36,
     "metadata": {},
     "output_type": "execute_result"
    }
   ],
   "source": [
    "cursor.execute(\n",
    "'SELECT actors.actor, movies.movie \\\n",
    "FROM movies \\\n",
    "INNER JOIN movies_actors ON movies.id == movies_actors.movie_id \\\n",
    "INNER JOIN actors ON movies_actors.actor_id==actors.id \\\n",
    "WHERE actors.actor == \"Natalie Portman\" ;')"
   ]
  },
  {
   "cell_type": "code",
   "execution_count": 37,
   "id": "07051ba3",
   "metadata": {},
   "outputs": [
    {
     "data": {
      "text/plain": [
       "[('Natalie Portman', 'Black Swan'), ('Natalie Portman', 'Closer')]"
      ]
     },
     "execution_count": 37,
     "metadata": {},
     "output_type": "execute_result"
    }
   ],
   "source": [
    "cursor.fetchall()"
   ]
  },
  {
   "cell_type": "markdown",
   "id": "a27359d8",
   "metadata": {},
   "source": [
    "# CSV vers SQLite"
   ]
  },
  {
   "cell_type": "markdown",
   "id": "0d6901fc",
   "metadata": {},
   "source": [
    "## Importer le csv en détectant son encodage"
   ]
  },
  {
   "cell_type": "code",
   "execution_count": 38,
   "id": "95c033ac",
   "metadata": {},
   "outputs": [],
   "source": [
    "import pandas as pd\n",
    "import chardet"
   ]
  },
  {
   "cell_type": "code",
   "execution_count": 39,
   "id": "7990b5d0",
   "metadata": {},
   "outputs": [
    {
     "data": {
      "text/plain": [
       "'ISO-8859-1'"
      ]
     },
     "execution_count": 39,
     "metadata": {},
     "output_type": "execute_result"
    }
   ],
   "source": [
    "chardet.detect(open('academy_awards.csv','rb').read())['encoding']"
   ]
  },
  {
   "cell_type": "code",
   "execution_count": 40,
   "id": "8e36b1de",
   "metadata": {},
   "outputs": [],
   "source": [
    "df = pd.read_csv('academy_awards.csv', encoding=chardet.detect(open('academy_awards.csv','rb').read())['encoding'])"
   ]
  },
  {
   "cell_type": "code",
   "execution_count": 41,
   "id": "827d4a43",
   "metadata": {},
   "outputs": [
    {
     "data": {
      "text/plain": [
       "Year               object\n",
       "Category           object\n",
       "Nominee            object\n",
       "Additional Info    object\n",
       "Won?               object\n",
       "Unnamed: 5         object\n",
       "Unnamed: 6         object\n",
       "Unnamed: 7         object\n",
       "Unnamed: 8         object\n",
       "Unnamed: 9         object\n",
       "Unnamed: 10        object\n",
       "dtype: object"
      ]
     },
     "execution_count": 41,
     "metadata": {},
     "output_type": "execute_result"
    }
   ],
   "source": [
    "df.dtypes"
   ]
  },
  {
   "cell_type": "markdown",
   "id": "7d7587b4",
   "metadata": {},
   "source": [
    "## Supprimer colonnes avec trop de valeurs manquantes"
   ]
  },
  {
   "cell_type": "code",
   "execution_count": 42,
   "id": "d56fc0ef",
   "metadata": {},
   "outputs": [
    {
     "data": {
      "text/plain": [
       "Index(['Year', 'Category', 'Nominee', 'Additional Info', 'Won?', 'Unnamed: 5',\n",
       "       'Unnamed: 6', 'Unnamed: 7', 'Unnamed: 8', 'Unnamed: 9', 'Unnamed: 10'],\n",
       "      dtype='object')"
      ]
     },
     "execution_count": 42,
     "metadata": {},
     "output_type": "execute_result"
    }
   ],
   "source": [
    "df.columns"
   ]
  },
  {
   "cell_type": "code",
   "execution_count": 43,
   "id": "3ebff6b5",
   "metadata": {},
   "outputs": [
    {
     "data": {
      "text/plain": [
       "Unnamed: 10        0.999901\n",
       "Unnamed: 9         0.999901\n",
       "Unnamed: 8         0.999803\n",
       "Unnamed: 7         0.999704\n",
       "Unnamed: 5         0.998915\n",
       "Unnamed: 6         0.998816\n",
       "Additional Info    0.111078\n",
       "Won?               0.000000\n",
       "Nominee            0.000000\n",
       "Category           0.000000\n",
       "Year               0.000000\n",
       "dtype: float64"
      ]
     },
     "execution_count": 43,
     "metadata": {},
     "output_type": "execute_result"
    }
   ],
   "source": [
    "df.isnull().sum().sort_values(ascending=False)/len(df)"
   ]
  },
  {
   "cell_type": "code",
   "execution_count": 44,
   "id": "95c7a159",
   "metadata": {},
   "outputs": [
    {
     "data": {
      "text/html": [
       "<div>\n",
       "<style scoped>\n",
       "    .dataframe tbody tr th:only-of-type {\n",
       "        vertical-align: middle;\n",
       "    }\n",
       "\n",
       "    .dataframe tbody tr th {\n",
       "        vertical-align: top;\n",
       "    }\n",
       "\n",
       "    .dataframe thead th {\n",
       "        text-align: right;\n",
       "    }\n",
       "</style>\n",
       "<table border=\"1\" class=\"dataframe\">\n",
       "  <thead>\n",
       "    <tr style=\"text-align: right;\">\n",
       "      <th></th>\n",
       "      <th>Year</th>\n",
       "      <th>Category</th>\n",
       "      <th>Nominee</th>\n",
       "      <th>Won?</th>\n",
       "      <th>Additional Info</th>\n",
       "    </tr>\n",
       "  </thead>\n",
       "  <tbody>\n",
       "    <tr>\n",
       "      <th>0</th>\n",
       "      <td>2010 (83rd)</td>\n",
       "      <td>Actor -- Leading Role</td>\n",
       "      <td>Javier Bardem</td>\n",
       "      <td>NO</td>\n",
       "      <td>Biutiful {'Uxbal'}</td>\n",
       "    </tr>\n",
       "    <tr>\n",
       "      <th>1</th>\n",
       "      <td>2010 (83rd)</td>\n",
       "      <td>Actor -- Leading Role</td>\n",
       "      <td>Jeff Bridges</td>\n",
       "      <td>NO</td>\n",
       "      <td>True Grit {'Rooster Cogburn'}</td>\n",
       "    </tr>\n",
       "    <tr>\n",
       "      <th>2</th>\n",
       "      <td>2010 (83rd)</td>\n",
       "      <td>Actor -- Leading Role</td>\n",
       "      <td>Jesse Eisenberg</td>\n",
       "      <td>NO</td>\n",
       "      <td>The Social Network {'Mark Zuckerberg'}</td>\n",
       "    </tr>\n",
       "    <tr>\n",
       "      <th>3</th>\n",
       "      <td>2010 (83rd)</td>\n",
       "      <td>Actor -- Leading Role</td>\n",
       "      <td>Colin Firth</td>\n",
       "      <td>YES</td>\n",
       "      <td>The King's Speech {'King George VI'}</td>\n",
       "    </tr>\n",
       "    <tr>\n",
       "      <th>4</th>\n",
       "      <td>2010 (83rd)</td>\n",
       "      <td>Actor -- Leading Role</td>\n",
       "      <td>James Franco</td>\n",
       "      <td>NO</td>\n",
       "      <td>127 Hours {'Aron Ralston'}</td>\n",
       "    </tr>\n",
       "  </tbody>\n",
       "</table>\n",
       "</div>"
      ],
      "text/plain": [
       "          Year               Category          Nominee Won?  \\\n",
       "0  2010 (83rd)  Actor -- Leading Role    Javier Bardem   NO   \n",
       "1  2010 (83rd)  Actor -- Leading Role     Jeff Bridges   NO   \n",
       "2  2010 (83rd)  Actor -- Leading Role  Jesse Eisenberg   NO   \n",
       "3  2010 (83rd)  Actor -- Leading Role      Colin Firth  YES   \n",
       "4  2010 (83rd)  Actor -- Leading Role     James Franco   NO   \n",
       "\n",
       "                          Additional Info  \n",
       "0                      Biutiful {'Uxbal'}  \n",
       "1           True Grit {'Rooster Cogburn'}  \n",
       "2  The Social Network {'Mark Zuckerberg'}  \n",
       "3    The King's Speech {'King George VI'}  \n",
       "4              127 Hours {'Aron Ralston'}  "
      ]
     },
     "execution_count": 44,
     "metadata": {},
     "output_type": "execute_result"
    }
   ],
   "source": [
    "df = df[['Year','Category','Nominee','Won?', 'Additional Info']]\n",
    "df.head()"
   ]
  },
  {
   "cell_type": "markdown",
   "id": "75d40f71",
   "metadata": {},
   "source": [
    "## Retravailler les colonnes"
   ]
  },
  {
   "cell_type": "code",
   "execution_count": 45,
   "id": "70c215a6",
   "metadata": {},
   "outputs": [
    {
     "data": {
      "text/plain": [
       "0    2010 (83rd)\n",
       "1    2010 (83rd)\n",
       "2    2010 (83rd)\n",
       "3    2010 (83rd)\n",
       "4    2010 (83rd)\n",
       "Name: Year, dtype: object"
      ]
     },
     "execution_count": 45,
     "metadata": {},
     "output_type": "execute_result"
    }
   ],
   "source": [
    "# Garder uniquement l'année\n",
    "df['Year'].head()"
   ]
  },
  {
   "cell_type": "code",
   "execution_count": 46,
   "id": "21266ce9",
   "metadata": {},
   "outputs": [],
   "source": [
    "df['Year']= df['Year'].str[0:4].astype(int)"
   ]
  },
  {
   "cell_type": "code",
   "execution_count": 47,
   "id": "91a696bc",
   "metadata": {},
   "outputs": [],
   "source": [
    "# Supprimer les films avant 2000\n",
    "df = df[df['Year']>2000]"
   ]
  },
  {
   "cell_type": "code",
   "execution_count": 48,
   "id": "5c90e7ad",
   "metadata": {},
   "outputs": [
    {
     "data": {
      "text/plain": [
       "Writing                                                        100\n",
       "Scientific and Technical (Technical Achievement Award)          70\n",
       "Best Picture                                                    60\n",
       "Short Film (Live Action)                                        50\n",
       "Actor -- Supporting Role                                        50\n",
       "Foreign Language Film                                           50\n",
       "Film Editing                                                    50\n",
       "Documentary (Feature)                                           50\n",
       "Short Film (Animated)                                           50\n",
       "Music (Scoring)                                                 50\n",
       "Actress -- Leading Role                                         50\n",
       "Art Direction                                                   50\n",
       "Cinematography                                                  50\n",
       "Actor -- Leading Role                                           50\n",
       "Directing                                                       50\n",
       "Sound                                                           50\n",
       "Actress -- Supporting Role                                      50\n",
       "Costume Design                                                  50\n",
       "Scientific and Technical (Scientific and Engineering Award)     46\n",
       "Music (Song)                                                    45\n",
       "Documentary (Short Subject)                                     41\n",
       "Sound Editing                                                   39\n",
       "Animated Feature Film                                           34\n",
       "Visual Effects                                                  32\n",
       "Makeup                                                          29\n",
       "Honorary Award                                                  14\n",
       "Scientific and Technical (Bonner Medal)                          9\n",
       "Scientific and Technical (Gordon E. Sawyer Award)                7\n",
       "Scientific and Technical (Academy Award of Merit)                7\n",
       "Scientific and Technical (Special Awards)                        5\n",
       "Jean Hersholt Humanitarian Award                                 4\n",
       "Irving G. Thalberg Memorial Award                                2\n",
       "Name: Category, dtype: int64"
      ]
     },
     "execution_count": 48,
     "metadata": {},
     "output_type": "execute_result"
    }
   ],
   "source": [
    "# Garder uniquement certaines catégories\n",
    "df.Category.value_counts()"
   ]
  },
  {
   "cell_type": "code",
   "execution_count": 49,
   "id": "9d08ba20",
   "metadata": {},
   "outputs": [],
   "source": [
    "award_category = ['Actor -- Supporting Role','Actress -- Supporting Role','Actor -- Leading Role','Actress -- Leading Role']"
   ]
  },
  {
   "cell_type": "code",
   "execution_count": 50,
   "id": "bd4fac37",
   "metadata": {},
   "outputs": [
    {
     "data": {
      "text/html": [
       "<div>\n",
       "<style scoped>\n",
       "    .dataframe tbody tr th:only-of-type {\n",
       "        vertical-align: middle;\n",
       "    }\n",
       "\n",
       "    .dataframe tbody tr th {\n",
       "        vertical-align: top;\n",
       "    }\n",
       "\n",
       "    .dataframe thead th {\n",
       "        text-align: right;\n",
       "    }\n",
       "</style>\n",
       "<table border=\"1\" class=\"dataframe\">\n",
       "  <thead>\n",
       "    <tr style=\"text-align: right;\">\n",
       "      <th></th>\n",
       "      <th>Year</th>\n",
       "      <th>Category</th>\n",
       "      <th>Nominee</th>\n",
       "      <th>Won?</th>\n",
       "      <th>Additional Info</th>\n",
       "    </tr>\n",
       "  </thead>\n",
       "  <tbody>\n",
       "    <tr>\n",
       "      <th>0</th>\n",
       "      <td>2010</td>\n",
       "      <td>Actor -- Leading Role</td>\n",
       "      <td>Javier Bardem</td>\n",
       "      <td>NO</td>\n",
       "      <td>Biutiful {'Uxbal'}</td>\n",
       "    </tr>\n",
       "    <tr>\n",
       "      <th>1</th>\n",
       "      <td>2010</td>\n",
       "      <td>Actor -- Leading Role</td>\n",
       "      <td>Jeff Bridges</td>\n",
       "      <td>NO</td>\n",
       "      <td>True Grit {'Rooster Cogburn'}</td>\n",
       "    </tr>\n",
       "    <tr>\n",
       "      <th>2</th>\n",
       "      <td>2010</td>\n",
       "      <td>Actor -- Leading Role</td>\n",
       "      <td>Jesse Eisenberg</td>\n",
       "      <td>NO</td>\n",
       "      <td>The Social Network {'Mark Zuckerberg'}</td>\n",
       "    </tr>\n",
       "  </tbody>\n",
       "</table>\n",
       "</div>"
      ],
      "text/plain": [
       "   Year               Category          Nominee Won?  \\\n",
       "0  2010  Actor -- Leading Role    Javier Bardem   NO   \n",
       "1  2010  Actor -- Leading Role     Jeff Bridges   NO   \n",
       "2  2010  Actor -- Leading Role  Jesse Eisenberg   NO   \n",
       "\n",
       "                          Additional Info  \n",
       "0                      Biutiful {'Uxbal'}  \n",
       "1           True Grit {'Rooster Cogburn'}  \n",
       "2  The Social Network {'Mark Zuckerberg'}  "
      ]
     },
     "execution_count": 50,
     "metadata": {},
     "output_type": "execute_result"
    }
   ],
   "source": [
    "df = df[df.Category.isin(award_category)]\n",
    "df.head(3)"
   ]
  },
  {
   "cell_type": "code",
   "execution_count": 51,
   "id": "1f8291de",
   "metadata": {},
   "outputs": [],
   "source": [
    "# Mapper Won? Yes/No avec 1/0\n",
    "df['Won?']= df['Won?'].map({\"NO\":0,\"YES\":1}).copy()"
   ]
  },
  {
   "cell_type": "code",
   "execution_count": 52,
   "id": "5d6b88c2",
   "metadata": {},
   "outputs": [],
   "source": [
    "df.rename(columns={'Won?': 'Won'}, inplace=True)"
   ]
  },
  {
   "cell_type": "code",
   "execution_count": 53,
   "id": "804612e5",
   "metadata": {},
   "outputs": [
    {
     "data": {
      "text/html": [
       "<div>\n",
       "<style scoped>\n",
       "    .dataframe tbody tr th:only-of-type {\n",
       "        vertical-align: middle;\n",
       "    }\n",
       "\n",
       "    .dataframe tbody tr th {\n",
       "        vertical-align: top;\n",
       "    }\n",
       "\n",
       "    .dataframe thead th {\n",
       "        text-align: right;\n",
       "    }\n",
       "</style>\n",
       "<table border=\"1\" class=\"dataframe\">\n",
       "  <thead>\n",
       "    <tr style=\"text-align: right;\">\n",
       "      <th></th>\n",
       "      <th>Year</th>\n",
       "      <th>Category</th>\n",
       "      <th>Nominee</th>\n",
       "      <th>Won</th>\n",
       "      <th>Additional Info</th>\n",
       "    </tr>\n",
       "  </thead>\n",
       "  <tbody>\n",
       "    <tr>\n",
       "      <th>0</th>\n",
       "      <td>2010</td>\n",
       "      <td>Actor -- Leading Role</td>\n",
       "      <td>Javier Bardem</td>\n",
       "      <td>0</td>\n",
       "      <td>Biutiful {'Uxbal'}</td>\n",
       "    </tr>\n",
       "    <tr>\n",
       "      <th>1</th>\n",
       "      <td>2010</td>\n",
       "      <td>Actor -- Leading Role</td>\n",
       "      <td>Jeff Bridges</td>\n",
       "      <td>0</td>\n",
       "      <td>True Grit {'Rooster Cogburn'}</td>\n",
       "    </tr>\n",
       "    <tr>\n",
       "      <th>2</th>\n",
       "      <td>2010</td>\n",
       "      <td>Actor -- Leading Role</td>\n",
       "      <td>Jesse Eisenberg</td>\n",
       "      <td>0</td>\n",
       "      <td>The Social Network {'Mark Zuckerberg'}</td>\n",
       "    </tr>\n",
       "  </tbody>\n",
       "</table>\n",
       "</div>"
      ],
      "text/plain": [
       "   Year               Category          Nominee  Won  \\\n",
       "0  2010  Actor -- Leading Role    Javier Bardem    0   \n",
       "1  2010  Actor -- Leading Role     Jeff Bridges    0   \n",
       "2  2010  Actor -- Leading Role  Jesse Eisenberg    0   \n",
       "\n",
       "                          Additional Info  \n",
       "0                      Biutiful {'Uxbal'}  \n",
       "1           True Grit {'Rooster Cogburn'}  \n",
       "2  The Social Network {'Mark Zuckerberg'}  "
      ]
     },
     "execution_count": 53,
     "metadata": {},
     "output_type": "execute_result"
    }
   ],
   "source": [
    "df.head(3)"
   ]
  },
  {
   "cell_type": "code",
   "execution_count": 54,
   "id": "16c1ea41",
   "metadata": {},
   "outputs": [],
   "source": [
    "# Split Additional Info entre le titre et le perso principal\n",
    "Additional_info_df = df['Additional Info'].str.split(\" {'\",expand=True)"
   ]
  },
  {
   "cell_type": "code",
   "execution_count": 55,
   "id": "2d3d90d9",
   "metadata": {},
   "outputs": [],
   "source": [
    "df['Movie_name'], df['Character'] = Additional_info_df[0].str.strip(), Additional_info_df[1].str.replace(\"'}\",\"\").str.strip()"
   ]
  },
  {
   "cell_type": "code",
   "execution_count": 56,
   "id": "0e45d827",
   "metadata": {},
   "outputs": [],
   "source": [
    "df.drop(columns='Additional Info', inplace=True)"
   ]
  },
  {
   "cell_type": "code",
   "execution_count": 57,
   "id": "6ff8abf3",
   "metadata": {},
   "outputs": [
    {
     "data": {
      "text/html": [
       "<div>\n",
       "<style scoped>\n",
       "    .dataframe tbody tr th:only-of-type {\n",
       "        vertical-align: middle;\n",
       "    }\n",
       "\n",
       "    .dataframe tbody tr th {\n",
       "        vertical-align: top;\n",
       "    }\n",
       "\n",
       "    .dataframe thead th {\n",
       "        text-align: right;\n",
       "    }\n",
       "</style>\n",
       "<table border=\"1\" class=\"dataframe\">\n",
       "  <thead>\n",
       "    <tr style=\"text-align: right;\">\n",
       "      <th></th>\n",
       "      <th>Year</th>\n",
       "      <th>Category</th>\n",
       "      <th>Nominee</th>\n",
       "      <th>Won</th>\n",
       "      <th>Movie_name</th>\n",
       "      <th>Character</th>\n",
       "    </tr>\n",
       "  </thead>\n",
       "  <tbody>\n",
       "    <tr>\n",
       "      <th>0</th>\n",
       "      <td>2010</td>\n",
       "      <td>Actor -- Leading Role</td>\n",
       "      <td>Javier Bardem</td>\n",
       "      <td>0</td>\n",
       "      <td>Biutiful</td>\n",
       "      <td>Uxbal</td>\n",
       "    </tr>\n",
       "    <tr>\n",
       "      <th>1</th>\n",
       "      <td>2010</td>\n",
       "      <td>Actor -- Leading Role</td>\n",
       "      <td>Jeff Bridges</td>\n",
       "      <td>0</td>\n",
       "      <td>True Grit</td>\n",
       "      <td>Rooster Cogburn</td>\n",
       "    </tr>\n",
       "    <tr>\n",
       "      <th>2</th>\n",
       "      <td>2010</td>\n",
       "      <td>Actor -- Leading Role</td>\n",
       "      <td>Jesse Eisenberg</td>\n",
       "      <td>0</td>\n",
       "      <td>The Social Network</td>\n",
       "      <td>Mark Zuckerberg</td>\n",
       "    </tr>\n",
       "    <tr>\n",
       "      <th>3</th>\n",
       "      <td>2010</td>\n",
       "      <td>Actor -- Leading Role</td>\n",
       "      <td>Colin Firth</td>\n",
       "      <td>1</td>\n",
       "      <td>The King's Speech</td>\n",
       "      <td>King George VI</td>\n",
       "    </tr>\n",
       "    <tr>\n",
       "      <th>4</th>\n",
       "      <td>2010</td>\n",
       "      <td>Actor -- Leading Role</td>\n",
       "      <td>James Franco</td>\n",
       "      <td>0</td>\n",
       "      <td>127 Hours</td>\n",
       "      <td>Aron Ralston</td>\n",
       "    </tr>\n",
       "  </tbody>\n",
       "</table>\n",
       "</div>"
      ],
      "text/plain": [
       "   Year               Category          Nominee  Won          Movie_name  \\\n",
       "0  2010  Actor -- Leading Role    Javier Bardem    0            Biutiful   \n",
       "1  2010  Actor -- Leading Role     Jeff Bridges    0           True Grit   \n",
       "2  2010  Actor -- Leading Role  Jesse Eisenberg    0  The Social Network   \n",
       "3  2010  Actor -- Leading Role      Colin Firth    1   The King's Speech   \n",
       "4  2010  Actor -- Leading Role     James Franco    0           127 Hours   \n",
       "\n",
       "         Character  \n",
       "0            Uxbal  \n",
       "1  Rooster Cogburn  \n",
       "2  Mark Zuckerberg  \n",
       "3   King George VI  \n",
       "4     Aron Ralston  "
      ]
     },
     "execution_count": 57,
     "metadata": {},
     "output_type": "execute_result"
    }
   ],
   "source": [
    "df.head()"
   ]
  },
  {
   "cell_type": "code",
   "execution_count": 58,
   "id": "4592d2a5",
   "metadata": {},
   "outputs": [
    {
     "data": {
      "text/plain": [
       "Year           int64\n",
       "Category      object\n",
       "Nominee       object\n",
       "Won            int64\n",
       "Movie_name    object\n",
       "Character     object\n",
       "dtype: object"
      ]
     },
     "execution_count": 58,
     "metadata": {},
     "output_type": "execute_result"
    }
   ],
   "source": [
    "df.dtypes"
   ]
  },
  {
   "cell_type": "markdown",
   "id": "5d624467",
   "metadata": {},
   "source": [
    "## Export vers SQLite"
   ]
  },
  {
   "cell_type": "code",
   "execution_count": 59,
   "id": "b856dcee",
   "metadata": {},
   "outputs": [],
   "source": [
    "# Créer une nouvelle base de données - se connecter à une base inexistante la crée et initie la connexion\n",
    "connexion3 = sqlite3.connect('nominations.db')"
   ]
  },
  {
   "cell_type": "code",
   "execution_count": 60,
   "id": "57f45bd7",
   "metadata": {},
   "outputs": [],
   "source": [
    "df.to_sql('nominations', connexion3, index=False, if_exists='replace')"
   ]
  },
  {
   "cell_type": "code",
   "execution_count": 63,
   "id": "cb72b975",
   "metadata": {},
   "outputs": [
    {
     "data": {
      "text/plain": [
       "[(0, 'Year', 'INTEGER', 0, None, 0),\n",
       " (1, 'Category', 'TEXT', 0, None, 0),\n",
       " (2, 'Nominee', 'TEXT', 0, None, 0),\n",
       " (3, 'Won', 'INTEGER', 0, None, 0),\n",
       " (4, 'Movie_name', 'TEXT', 0, None, 0),\n",
       " (5, 'Character', 'TEXT', 0, None, 0)]"
      ]
     },
     "execution_count": 63,
     "metadata": {},
     "output_type": "execute_result"
    }
   ],
   "source": [
    "connexion3.execute('PRAGMA table_info(nominations)').fetchall()"
   ]
  },
  {
   "cell_type": "markdown",
   "id": "375aa9cd",
   "metadata": {},
   "source": [
    "## Créer table ceremonies"
   ]
  },
  {
   "cell_type": "markdown",
   "id": "d912f3f2",
   "metadata": {},
   "source": [
    "Initier la table"
   ]
  },
  {
   "cell_type": "code",
   "execution_count": 66,
   "id": "4bede966",
   "metadata": {},
   "outputs": [
    {
     "data": {
      "text/plain": [
       "[]"
      ]
     },
     "execution_count": 66,
     "metadata": {},
     "output_type": "execute_result"
    }
   ],
   "source": [
    "connexion3.execute('CREATE TABLE ceremonies(\\\n",
    "id integer PRIMARY KEY,\\\n",
    "Year integer,\\\n",
    "Host text);').fetchall()"
   ]
  },
  {
   "cell_type": "code",
   "execution_count": 67,
   "id": "a409edb0",
   "metadata": {},
   "outputs": [
    {
     "data": {
      "text/plain": [
       "[(0, 'id', 'integer', 0, None, 1),\n",
       " (1, 'Year', 'integer', 0, None, 0),\n",
       " (2, 'Host', 'text', 0, None, 0)]"
      ]
     },
     "execution_count": 67,
     "metadata": {},
     "output_type": "execute_result"
    }
   ],
   "source": [
    "connexion3.execute('PRAGMA table_info(ceremonies)').fetchall()"
   ]
  },
  {
   "cell_type": "markdown",
   "id": "f97e454e",
   "metadata": {},
   "source": [
    "Remplir la table"
   ]
  },
  {
   "cell_type": "code",
   "execution_count": 69,
   "id": "8ea5f2e9",
   "metadata": {},
   "outputs": [],
   "source": [
    "# executemany\n",
    "query='INSERT INTO ceremonies (Year, Host) VALUES (?,?);'\n",
    "years_host = [(2010, \"Steve Martin\"),\n",
    "(2009, \"Hugh Jackman\"),\n",
    "(2008, \"Jon Stewart\"),\n",
    "(2007, \"Ellen DeGeneres\"),\n",
    "(2006, \"Jon Stewart\"),\n",
    "(2005, \"Chris Rock\"),\n",
    "(2004, \"Billy Crystal\"),\n",
    "(2003, \"Whoopi Goldberg\"),\n",
    "(2001, \"Steve Martin\"),\n",
    "(2000, \"Billy Crystal\")]"
   ]
  },
  {
   "cell_type": "code",
   "execution_count": 70,
   "id": "ecb82219",
   "metadata": {},
   "outputs": [
    {
     "data": {
      "text/plain": [
       "<sqlite3.Cursor at 0x7fa514e83a40>"
      ]
     },
     "execution_count": 70,
     "metadata": {},
     "output_type": "execute_result"
    }
   ],
   "source": [
    "connexion3.executemany(query, years_host)"
   ]
  },
  {
   "cell_type": "code",
   "execution_count": 71,
   "id": "831fa42b",
   "metadata": {},
   "outputs": [],
   "source": [
    "connexion3.commit()"
   ]
  },
  {
   "cell_type": "markdown",
   "id": "6b396412",
   "metadata": {},
   "source": [
    "## Ajout clé externe"
   ]
  },
  {
   "cell_type": "code",
   "execution_count": 72,
   "id": "44829b82",
   "metadata": {},
   "outputs": [
    {
     "data": {
      "text/plain": [
       "<sqlite3.Cursor at 0x7fa5146c91f0>"
      ]
     },
     "execution_count": 72,
     "metadata": {},
     "output_type": "execute_result"
    }
   ],
   "source": [
    "connexion3.execute('PRAGMA foreign_key = ON')"
   ]
  },
  {
   "cell_type": "markdown",
   "id": "8c7595ae",
   "metadata": {},
   "source": [
    "Comme on ne peut pas supprimer la colonne d'une table en sqlite, on en crée une nouvelle version \"nominations2\""
   ]
  },
  {
   "cell_type": "code",
   "execution_count": 80,
   "id": "50bddf6e",
   "metadata": {},
   "outputs": [
    {
     "data": {
      "text/plain": [
       "[]"
      ]
     },
     "execution_count": 80,
     "metadata": {},
     "output_type": "execute_result"
    }
   ],
   "source": [
    "connexion3.execute('CREATE TABLE nominations2(\\\n",
    "id integer PRIMARY KEY,\\\n",
    "category text,\\\n",
    "nominee text,\\\n",
    "movie text,\\\n",
    "character text,\\\n",
    "won integer,\\\n",
    "year integer,\\\n",
    "ceremony_id integer REFERENCES ceremonies(id));').fetchall()"
   ]
  },
  {
   "cell_type": "code",
   "execution_count": 82,
   "id": "f1453a8e",
   "metadata": {},
   "outputs": [
    {
     "data": {
      "text/plain": [
       "[(0, 'id', 'integer', 0, None, 1),\n",
       " (1, 'category', 'text', 0, None, 0),\n",
       " (2, 'nominee', 'text', 0, None, 0),\n",
       " (3, 'movie', 'text', 0, None, 0),\n",
       " (4, 'character', 'text', 0, None, 0),\n",
       " (5, 'won', 'integer', 0, None, 0),\n",
       " (6, 'year', 'integer', 0, None, 0),\n",
       " (7, 'ceremony_id', 'integer', 0, None, 0)]"
      ]
     },
     "execution_count": 82,
     "metadata": {},
     "output_type": "execute_result"
    }
   ],
   "source": [
    "connexion3.execute('PRAGMA table_info(nominations2)').fetchall()"
   ]
  },
  {
   "cell_type": "code",
   "execution_count": 81,
   "id": "eb54b2cc",
   "metadata": {},
   "outputs": [
    {
     "data": {
      "text/plain": [
       "<sqlite3.Cursor at 0x7fa514753420>"
      ]
     },
     "execution_count": 81,
     "metadata": {},
     "output_type": "execute_result"
    }
   ],
   "source": [
    "#connexion3.execute('DROP TABLE nominations_two;')"
   ]
  },
  {
   "cell_type": "code",
   "execution_count": 102,
   "id": "256b5fb7",
   "metadata": {},
   "outputs": [],
   "source": [
    "nominations='SELECT nominations.Category, nominations.Nominee, nominations.Movie_name, nominations.Character, nominations.Won, nominations.Year,ceremonies.id \\\n",
    "FROM nominations \\\n",
    "INNER JOIN ceremonies ON nominations.year == ceremonies.Year;'"
   ]
  },
  {
   "cell_type": "code",
   "execution_count": 104,
   "id": "c20798c3",
   "metadata": {},
   "outputs": [],
   "source": [
    "nominations_values = connexion3.execute(nominations).fetchall()"
   ]
  },
  {
   "cell_type": "code",
   "execution_count": 105,
   "id": "17988d60",
   "metadata": {},
   "outputs": [],
   "source": [
    "insert_query = 'INSERT INTO nominations2 (category, nominee, movie, character, won, year, ceremony_id) VALUES (?,?,?,?,?,?,?)'"
   ]
  },
  {
   "cell_type": "code",
   "execution_count": 106,
   "id": "aa9672b3",
   "metadata": {},
   "outputs": [
    {
     "data": {
      "text/plain": [
       "<sqlite3.Cursor at 0x7fa5144a65e0>"
      ]
     },
     "execution_count": 106,
     "metadata": {},
     "output_type": "execute_result"
    }
   ],
   "source": [
    "connexion3.executemany(insert_query, nominations_values)"
   ]
  },
  {
   "cell_type": "code",
   "execution_count": 107,
   "id": "7184e205",
   "metadata": {},
   "outputs": [],
   "source": [
    "connexion3.commit()"
   ]
  },
  {
   "cell_type": "code",
   "execution_count": 108,
   "id": "9ad12fbb",
   "metadata": {},
   "outputs": [
    {
     "data": {
      "text/plain": [
       "<sqlite3.Cursor at 0x7fa5144a6880>"
      ]
     },
     "execution_count": 108,
     "metadata": {},
     "output_type": "execute_result"
    }
   ],
   "source": [
    "#connexion3.execute('DROP TABLE nominations;')"
   ]
  },
  {
   "cell_type": "code",
   "execution_count": 109,
   "id": "ac4686b9",
   "metadata": {},
   "outputs": [
    {
     "data": {
      "text/plain": [
       "[]"
      ]
     },
     "execution_count": 109,
     "metadata": {},
     "output_type": "execute_result"
    }
   ],
   "source": [
    "# Renommer table\n",
    "connexion3.execute('ALTER TABLE nominations2 RENAME TO nominations;').fetchall()"
   ]
  },
  {
   "cell_type": "markdown",
   "id": "96623f8d",
   "metadata": {},
   "source": [
    "## Créer une join table"
   ]
  },
  {
   "cell_type": "code",
   "execution_count": 113,
   "id": "beadfff8",
   "metadata": {},
   "outputs": [],
   "source": [
    "movies_query = 'CREATE TABLE movies( \\\n",
    "id integer PRIMARY KEY,\\\n",
    "movie text);'\n",
    "\n",
    "actors_query = 'CREATE TABLE actors( \\\n",
    "id integer PRIMARY KEY,\\\n",
    "actor text);'\n",
    "\n",
    "join_table_query = 'CREATE TABLE movies_actors(\\\n",
    "id integer PRIMARY KEY,\\\n",
    "movie_id INTEGER REFERENCES movies(id),\\\n",
    "actor_id integer REFERENCES actors(id))'"
   ]
  },
  {
   "cell_type": "code",
   "execution_count": 115,
   "id": "dea71b8e",
   "metadata": {},
   "outputs": [
    {
     "data": {
      "text/plain": [
       "<sqlite3.Cursor at 0x7fa5144a6c00>"
      ]
     },
     "execution_count": 115,
     "metadata": {},
     "output_type": "execute_result"
    }
   ],
   "source": [
    "connexion3.execute(movies_query)\n",
    "connexion3.execute(actors_query)\n",
    "connexion3.execute(join_table_query)"
   ]
  },
  {
   "cell_type": "code",
   "execution_count": 117,
   "id": "5fd5a701",
   "metadata": {},
   "outputs": [
    {
     "data": {
      "text/plain": [
       "[(0, 0, 'actors', 'actor_id', 'id', 'NO ACTION', 'NO ACTION', 'NONE'),\n",
       " (1, 0, 'movies', 'movie_id', 'id', 'NO ACTION', 'NO ACTION', 'NONE')]"
      ]
     },
     "execution_count": 117,
     "metadata": {},
     "output_type": "execute_result"
    }
   ],
   "source": [
    "connexion3.execute('PRAGMA foreign_key_list(movies_actors)').fetchall()"
   ]
  },
  {
   "cell_type": "code",
   "execution_count": null,
   "id": "a29b1714",
   "metadata": {},
   "outputs": [],
   "source": []
  }
 ],
 "metadata": {
  "kernelspec": {
   "display_name": "Python 3",
   "language": "python",
   "name": "python3"
  },
  "language_info": {
   "codemirror_mode": {
    "name": "ipython",
    "version": 3
   },
   "file_extension": ".py",
   "mimetype": "text/x-python",
   "name": "python",
   "nbconvert_exporter": "python",
   "pygments_lexer": "ipython3",
   "version": "3.9.2"
  },
  "toc": {
   "base_numbering": 1,
   "nav_menu": {},
   "number_sections": true,
   "sideBar": true,
   "skip_h1_title": false,
   "title_cell": "Table of Contents",
   "title_sidebar": "Contents",
   "toc_cell": false,
   "toc_position": {},
   "toc_section_display": true,
   "toc_window_display": true
  }
 },
 "nbformat": 4,
 "nbformat_minor": 5
}
